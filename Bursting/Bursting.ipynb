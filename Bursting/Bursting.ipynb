{
 "cells": [
  {
   "cell_type": "code",
   "execution_count": 1,
   "metadata": {},
   "outputs": [],
   "source": [
    "from neuron import h,gui2\n",
    "import matplotlib.pyplot as plt\n",
    "import ipywidgets as widgets\n",
    "from ipywidgets import HBox,VBox,Label,Layout\n",
    "h.load_file('stdrun.hoc')\n",
    "gui2.set_backend('jupyter')"
   ]
  },
  {
   "cell_type": "code",
   "execution_count": 2,
   "metadata": {},
   "outputs": [
    {
     "name": "stdout",
     "output_type": "stream",
     "text": [
      "\t1 \n",
      "\n",
      "-----\n",
      "\n",
      "Layer 2/3 Cortical Neurons Model based on Traub RD (2003)\n",
      "\n",
      "-----\n",
      "pyr3[0].comp[1] { nseg=1  L=15  Ra=250\n",
      "\t/*location 0 attached to cell 0*/\n",
      "\t/* First segment only */\n",
      "\tinsert morphology { diam=16}\n",
      "\tinsert capacitance { cm=0.9}\n",
      "\tinsert pas { g_pas=2e-05 e_pas=-70}\n",
      "\tinsert IClamp { del=0 dur=150 amp=-0.15}\n",
      "\tinsert cad { phi_cad=26000 beta_cad=0.01}\n",
      "\tinsert naf { gbar_naf=0.1875}\n",
      "\tinsert nap { gbar_nap=0.00042 vhalf_nap=-48 slope_nap=10}\n",
      "\tinsert na_ion { ena=50}\n",
      "\tinsert kdr { gbar_kdr=0.125}\n",
      "\tinsert ka { gbar_ka=0.03}\n",
      "\tinsert kc { gbar_kc=0.012 slope_kc=6 vhalf_kc=-19}\n",
      "\tinsert kahp { gbar_kahp=0.0001}\n",
      "\tinsert k2 { gbar_k2=0.0001}\n",
      "\tinsert km { gbar_km=0.0075}\n",
      "\tinsert k_ion { ek=-95}\n",
      "\tinsert cat { gbar_cat=0.0001}\n",
      "\tinsert cal { gbar_cal=0.0005 vhalf_cal=-20 slope_cal=8}\n",
      "\tinsert ca_ion {}\n",
      "\tinsert ar { gbar_ar=0.00025}\n",
      "}\n"
     ]
    },
    {
     "data": {
      "text/plain": [
       "1.0"
      ]
     },
     "execution_count": 2,
     "metadata": {},
     "output_type": "execute_result"
    }
   ],
   "source": [
    "h.load_file('pyr3_template.hoc')\n",
    "Cell = h.pyr3(0)\n",
    "h.psection(Cell)"
   ]
  },
  {
   "cell_type": "code",
   "execution_count": 3,
   "metadata": {},
   "outputs": [
    {
     "data": {
      "text/plain": [
       "1.0"
      ]
     },
     "execution_count": 3,
     "metadata": {},
     "output_type": "execute_result"
    }
   ],
   "source": [
    "h.v_init = -70\n",
    "h.tstop = 450\n",
    "h.dt = 0.025\n",
    "v0_vec = h.Vector()\n",
    "t_vec = h.Vector()\n",
    "v0_vec.record(Cell.comp[1](0.5)._ref_v)\n",
    "t_vec.record(h._ref_t)\n",
    "ina = h.Vector()\n",
    "ik = h.Vector()\n",
    "ical = h.Vector()\n",
    "icat = h.Vector()\n",
    "minf_nap = h.Vector()\n",
    "minf_cal = h.Vector()\n",
    "minf_kc = h.Vector()\n",
    "\n",
    "ina.record(Cell.comp[1](0.5)._ref_ina_nap)\n",
    "ik.record(Cell.comp[1](0.5)._ref_ik_kc)\n",
    "ical.record(Cell.comp[1](0.5)._ref_ica_cal)\n",
    "icat.record(Cell.comp[1](0.5)._ref_i_cat)\n",
    "\n",
    "minf_nap.record(Cell.comp[1](0.5)._ref_minf_nap)\n",
    "minf_cal.record(Cell.comp[1](0.5)._ref_minf_cal)\n",
    "minf_kc.record(Cell.comp[1](0.5)._ref_minf_kc)\n"
   ]
  },
  {
   "cell_type": "code",
   "execution_count": 4,
   "metadata": {},
   "outputs": [],
   "source": [
    "def Bursting (amp,dnap,dkc,vhalfnap,vhalfkca,vhalfcal,slopenap,slopekca,slopecal):\n",
    "\n",
    "    for sec in Cell.Soma:\n",
    "        gbar_naf1  = 150e-3 * 1.25\n",
    "        sec.gbar_nap  = dnap * 0.0032 * gbar_naf1\n",
    "        sec.gbar_kc   = dkc * 7.5e-3\n",
    "        sec.vhalf_nap = vhalfnap\n",
    "        sec.vhalf_kc = vhalfkca\n",
    "        sec.vhalf_cal = vhalfcal\n",
    "        sec.slope_nap = slopenap\n",
    "        sec.slope_kc = slopekca\n",
    "        sec.slope_cal = slopecal\n",
    "    for sec in Cell.Dendrites:\n",
    "        gbar_naf2  = 6.25e-3 \n",
    "        sec.gbar_nap  = dnap * 0.0032 * gbar_naf2\n",
    "        sec.vhalf_nap = vhalfnap\n",
    "        sec.vhalf_cal = vhalfcal\n",
    "        sec.slope_nap = slopenap\n",
    "        sec.slope_cal = slopecal\n",
    "    for sec in Cell.Prox:\n",
    "        gbar_naf3  = 75e-3 * 1.25\n",
    "        sec.gbar_nap  = dnap * 0.0032 * gbar_naf3\n",
    "        sec.gbar_kc   = dkc * 7.5e-3\n",
    "        sec.vhalf_nap = vhalfnap\n",
    "        sec.vhalf_kc = vhalfkca\n",
    "        sec.slope_nap = slopenap\n",
    "        sec.slope_kc = slopekca\n",
    "    for sec in Cell.Dist:\n",
    "        sec.slope_cal = slopecal\n",
    "        sec.vhalf_cal = vhalfcal\n",
    "    gbar_naf4  = 125e-3\n",
    "    Cell.comp[38].gbar_nap  = dnap * 0.0032 * gbar_naf4\n",
    "    Cell.comp[38].gbar_kc   = dkc * 7.5e-3\n",
    "    Cell.comp[38].vhalf_nap = vhalfnap\n",
    "    Cell.comp[38].vhalf_kc = vhalfkca\n",
    "    Cell.comp[38].slope_nap = slopenap\n",
    "    Cell.comp[38].slope_kc = slopekca\n",
    "\n",
    "    stim = h.IClamp(Cell.comp[1](0.5)) \n",
    "    stim.delay = 150 \n",
    "    stim.dur = 250  \n",
    "    stim.amp = amp\n",
    "    h.run()\n",
    "    #plt.figure(figsize=(10,16))\n",
    "    #plt.subplot(4,1,1)\n",
    "    plt.plot(t_vec, v0_vec)\n",
    "    plt.xlim(100,450)\n",
    "    plt.xlabel('time(ms)')\n",
    "    plt.ylabel('mV')\n",
    "    '''\n",
    "    plt.subplot(4,1,2)\n",
    "    plt.plot(v0_vec,minf_nap,'b')\n",
    "    \n",
    "    plt.xlabel('time(ms)')\n",
    "    plt.ylabel('current(nA)')\n",
    "    plt.subplot(4,1,3)\n",
    "    plt.plot(v0_vec,minf_cal,'r')\n",
    "  \n",
    "    plt.xlabel('time(ms)')\n",
    "    plt.ylabel('current(nA)')\n",
    "    plt.subplot(4,1,4)\n",
    "    plt.plot(v0_vec,minf_kc,'g')\n",
    "   \n",
    "    plt.xlabel('time(ms)')\n",
    "    plt.ylabel('current(nA)')\n",
    "    '''\n",
    "    plt.show()"
   ]
  },
  {
   "cell_type": "code",
   "execution_count": 5,
   "metadata": {},
   "outputs": [
    {
     "data": {
      "application/vnd.jupyter.widget-view+json": {
       "model_id": "3daaaea3751442ae839e364ad282b509",
       "version_major": 2,
       "version_minor": 0
      },
      "text/plain": [
       "HBox(children=(VBox(children=(Label(value='amp'), Label(value='dnap'), Label(value='dkc'), Label(value='halfna…"
      ]
     },
     "metadata": {},
     "output_type": "display_data"
    },
    {
     "data": {
      "application/vnd.jupyter.widget-view+json": {
       "model_id": "3e42a42f189840cd9f2b3c06991dee1e",
       "version_major": 2,
       "version_minor": 0
      },
      "text/plain": [
       "Output()"
      ]
     },
     "metadata": {},
     "output_type": "display_data"
    }
   ],
   "source": [
    "amp = 1.0\n",
    "dnap = 1.0\n",
    "dkc = 1.3\n",
    "vhalfnap = -48\n",
    "vhalfkca = -19\n",
    "vhalfcal = -20\n",
    "slopenap = 10\n",
    "slopekca = 6\n",
    "slopecal = 8\n",
    "\n",
    "w_amp = widgets.FloatSlider(value=amp,min=0,max=3,step=0.1,continuous_update=False,readout_format='.1f')\n",
    "w_dnap = widgets.FloatSlider(value=dnap,min=0,max=2,step=0.1,continuous_update=False,readout_format='.1f')\n",
    "w_dkc = widgets.FloatSlider(value=dkc,min=0,max=2,step=0.1,continuous_update=False,readout_format='.1f')\n",
    "\n",
    "w_halfnap = widgets.FloatSlider(value=vhalfnap,min=-64,max=-30,step=.1,continuous_update=False,readout_format='.1f')\n",
    "w_halfkca = widgets.FloatSlider(value=vhalfkca,min=-30,max=0,step=.1,continuous_update=False,readout_format='.1f')\n",
    "w_halfcal = widgets.FloatSlider(value=vhalfcal,min=-30,max=0,step=.1,continuous_update=False,readout_format='.1f')\n",
    "\n",
    "w_slopenap = widgets.FloatSlider(value=slopenap,min=0,max=70,step=.1,continuous_update=False,readout_format='.1f')\n",
    "w_slopekca = widgets.FloatSlider(value=slopekca,min=0,max=70,step=.1,continuous_update=False,readout_format='.1f')\n",
    "w_slopecal = widgets.FloatSlider(value=slopecal,min=0,max=70,step=.1,continuous_update=False,readout_format='.1f')\n",
    "\n",
    "ui =  HBox([VBox([Label('amp'),Label('dnap'),Label('dkc'),Label('halfnap'),Label('halfkca'),Label('halfcal'),Label('slopenap'),Label('slopekca'),Label('slopecal')],layout=Layout(width='10%')),\n",
    "            VBox([w_amp,w_dnap,w_dkc,w_halfnap,w_halfkca,w_halfcal,w_slopenap,w_slopekca,w_slopecal],layout=Layout(width='38%'))])\n",
    "\n",
    "out = widgets.interactive_output(Bursting,{'amp':w_amp,'dnap':w_dnap,'dkc':w_dkc,'vhalfnap':w_halfnap,'vhalfkca':w_halfkca,'vhalfcal':w_halfcal,'slopenap':w_slopenap,'slopekca':w_slopekca,'slopecal':w_slopecal})\n",
    "\n",
    "display(ui,out)"
   ]
  },
  {
   "cell_type": "code",
   "execution_count": null,
   "metadata": {},
   "outputs": [],
   "source": []
  }
 ],
 "metadata": {
  "kernelspec": {
   "display_name": "Python 3",
   "language": "python",
   "name": "python3"
  },
  "language_info": {
   "codemirror_mode": {
    "name": "ipython",
    "version": 3
   },
   "file_extension": ".py",
   "mimetype": "text/x-python",
   "name": "python",
   "nbconvert_exporter": "python",
   "pygments_lexer": "ipython3",
   "version": "3.6.9"
  }
 },
 "nbformat": 4,
 "nbformat_minor": 2
}
